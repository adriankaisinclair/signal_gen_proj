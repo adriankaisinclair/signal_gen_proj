{
 "cells": [
  {
   "cell_type": "code",
   "execution_count": 2,
   "metadata": {},
   "outputs": [],
   "source": [
    "import xrfdc\n",
    "import ipywidgets as ipw\n",
    "from ipywidgets import interact, interactive, fixed, interact_manual\n",
    "from signal_gen import qpsk_overlay, sdr_plots, dma_timer, dict_widget"
   ]
  },
  {
   "cell_type": "code",
   "execution_count": 3,
   "metadata": {},
   "outputs": [],
   "source": [
    "ol = qpsk_overlay.QpskOverlay()\n",
    "signal_ip = ol.custom_cordic_pynq_0"
   ]
  },
  {
   "cell_type": "code",
   "execution_count": 4,
   "metadata": {},
   "outputs": [],
   "source": [
    "ol.dac_block.MixerSettings = {\n",
    "    'CoarseMixFreq':  xrfdc.COARSE_MIX_BYPASS,\n",
    "    'EventSource':    xrfdc.EVNT_SRC_IMMEDIATE,\n",
    "    'FineMixerScale': xrfdc.MIXER_SCALE_1P0,\n",
    "    'Freq':           56.860, ################### Change me!\n",
    "    'MixerMode':      xrfdc.MIXER_MODE_C2R,\n",
    "    'MixerType':      xrfdc.MIXER_TYPE_FINE,\n",
    "    'PhaseOffset':    0.0\n",
    "}\n",
    "ol.dac_block.UpdateEvent(xrfdc.EVENT_MIXER)"
   ]
  },
  {
   "cell_type": "code",
   "execution_count": 5,
   "metadata": {},
   "outputs": [],
   "source": [
    "ol.adc_block.MixerSettings = {\n",
    "    'CoarseMixFreq':  xrfdc.COARSE_MIX_BYPASS,\n",
    "    'EventSource':    xrfdc.EVNT_SRC_TILE,\n",
    "    'FineMixerScale': xrfdc.MIXER_SCALE_1P0,\n",
    "    'Freq':           106.860, ################### Change me!\n",
    "    'MixerMode':      xrfdc.MIXER_MODE_R2C,\n",
    "    'MixerType':      xrfdc.MIXER_TYPE_FINE,\n",
    "    'PhaseOffset':    0.0\n",
    "}\n",
    "ol.adc_block.UpdateEvent(xrfdc.EVENT_MIXER)"
   ]
  },
  {
   "cell_type": "code",
   "execution_count": 6,
   "metadata": {},
   "outputs": [],
   "source": [
    "def updatefreq(freq):\n",
    "    signal_ip.write(0x00,freq) #511 max?"
   ]
  },
  {
   "cell_type": "code",
   "execution_count": null,
   "metadata": {},
   "outputs": [
    {
     "data": {
      "application/vnd.jupyter.widget-view+json": {
       "model_id": "20df350ca2354559827502e9c916a99c",
       "version_major": 2,
       "version_minor": 0
      },
      "text/plain": [
       "interactive(children=(IntSlider(value=400, description='freq', max=500), Output()), _dom_classes=('widget-inte…"
      ]
     },
     "metadata": {},
     "output_type": "display_data"
    }
   ],
   "source": [
    "interact(updatefreq,freq=ipw.IntSlider(min=0,max=500,step=1,value=400));"
   ]
  },
  {
   "cell_type": "markdown",
   "metadata": {},
   "source": [
    "# ADC data capture"
   ]
  },
  {
   "cell_type": "code",
   "execution_count": null,
   "metadata": {},
   "outputs": [],
   "source": [
    "fs=4000\n",
    "taps = {\n",
    "    'Decimated': \n",
    "      {'get': ol.qpsk_rx.get_decimated,     'get_many': ol.qpsk_rx.get_many_decimated,     'fs':1024},\n",
    "    'RRCed': \n",
    "      {'get': ol.qpsk_rx.get_rrced,         'get_many': ol.qpsk_rx.get_many_rrced,         'fs':16384},\n",
    "    'CoarseSynced': \n",
    "      {'get': ol.qpsk_rx.get_coarse_synced, 'get_many': ol.qpsk_rx.get_many_coarse_synced, 'fs':4096}\n",
    "}"
   ]
  },
  {
   "cell_type": "code",
   "execution_count": null,
   "metadata": {},
   "outputs": [],
   "source": [
    "tap = 'Decimated'"
   ]
  },
  {
   "cell_type": "code",
   "execution_count": null,
   "metadata": {},
   "outputs": [],
   "source": [
    "f=taps[tap]['get']\n",
    "fm=taps[tap]['get_many']\n",
    "fs=taps[tap]['fs']\n",
    "\n",
    "#f_plot = sdr_plots.IQFreqPlot(fm(), fs)\n",
    "#f_dt = dma_timer.DmaTimer(f_plot.add_frame, fm, 0.3)\n",
    "\n",
    "iq_plot = sdr_plots.IQTimePlot(fm(), fs, w=800)\n",
    "iq_dt = dma_timer.DmaTimer(iq_plot.add_data, f, 0.05)\n",
    "\n",
    "#c_plot = sdr_plots.IQConstellationPlot(fm(), plotrange=(0, len(fm())-1), fade=True)\n",
    "#c_dt = dma_timer.DmaTimer(c_plot.add_data, f, 0.05)\n",
    "\n",
    "#tab1 = ipw.Tab([ipw.VBox([iq_plot.get_widget(), ipw.HBox(iq_dt.get_widget())]),\n",
    "#                ipw.VBox([f_plot.get_widget(), ipw.HBox(f_dt.get_widget())])])\n",
    "#                ipw.VBox([c_plot.get_widget(), ipw.HBox(c_dt.get_widget())]),])\n",
    "tab1 = ipw.Tab([ipw.VBox([iq_plot.get_widget(), ipw.HBox(iq_dt.get_widget())])])\n",
    "tab1.set_title(0, 'Time domain')\n",
    "#tab1.set_title(1, 'Frequency domain')\n",
    "#tab1.set_title(2, 'Constellation')\n",
    "tab1"
   ]
  },
  {
   "cell_type": "code",
   "execution_count": null,
   "metadata": {
    "scrolled": false
   },
   "outputs": [],
   "source": [
    "def vnaSlider(freq):\n",
    "    freq_MHz = freq*0.125\n",
    "    f_down = 50.0 + freq_MHz # [MHz]\n",
    "    ol.adc_block.MixerSettings = {\n",
    "    'CoarseMixFreq':  xrfdc.COARSE_MIX_BYPASS,\n",
    "    'EventSource':    xrfdc.EVNT_SRC_TILE,\n",
    "    'FineMixerScale': xrfdc.MIXER_SCALE_1P0,\n",
    "    'Freq':           f_down, ################### Change me!\n",
    "    'MixerMode':      xrfdc.MIXER_MODE_R2C,\n",
    "    'MixerType':      xrfdc.MIXER_TYPE_FINE,\n",
    "    'PhaseOffset':    0.0\n",
    "    }\n",
    "    ol.adc_block.UpdateEvent(xrfdc.EVENT_MIXER)\n",
    "    signal_ip.write(0x00,freq)"
   ]
  },
  {
   "cell_type": "code",
   "execution_count": null,
   "metadata": {},
   "outputs": [],
   "source": [
    "interact(vnaSlider,freq=ipw.IntSlider(min=0,max=500,step=1,value=250));"
   ]
  },
  {
   "cell_type": "code",
   "execution_count": null,
   "metadata": {},
   "outputs": [],
   "source": [
    "iq_dt = dma_timer.DmaTimer(iq_plot.add_data, f, 0.05)"
   ]
  },
  {
   "cell_type": "code",
   "execution_count": null,
   "metadata": {},
   "outputs": [],
   "source": [
    "iq_dt"
   ]
  },
  {
   "cell_type": "code",
   "execution_count": null,
   "metadata": {},
   "outputs": [],
   "source": [
    "d = iq_plot.add_data"
   ]
  },
  {
   "cell_type": "code",
   "execution_count": null,
   "metadata": {},
   "outputs": [],
   "source": [
    "d"
   ]
  },
  {
   "cell_type": "code",
   "execution_count": null,
   "metadata": {},
   "outputs": [],
   "source": []
  }
 ],
 "metadata": {
  "kernelspec": {
   "display_name": "Python 3",
   "language": "python",
   "name": "python3"
  },
  "language_info": {
   "codemirror_mode": {
    "name": "ipython",
    "version": 3
   },
   "file_extension": ".py",
   "mimetype": "text/x-python",
   "name": "python",
   "nbconvert_exporter": "python",
   "pygments_lexer": "ipython3",
   "version": "3.6.5"
  }
 },
 "nbformat": 4,
 "nbformat_minor": 2
}
